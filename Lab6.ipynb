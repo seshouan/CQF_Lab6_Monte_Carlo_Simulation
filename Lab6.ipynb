{
 "cells": [
  {
   "cell_type": "code",
   "execution_count": null,
   "id": "1e3b7e08-2d57-4880-8d43-3963aa06e2eb",
   "metadata": {},
   "outputs": [],
   "source": [
    "# Importing libraries\n",
    "import pandas as pd\n",
    "import numpy as np\n",
    "import matplotlib.pyplot as plt\n",
    "\n",
    "# Set max row to 300\n",
    "pd.set_option('display.max_rows', 300)\n",
    "\n",
    "# Remove warnings\n",
    "import warnings\n",
    "warnings.filterwarnings('ignore')"
   ]
  },
  {
   "cell_type": "code",
   "execution_count": null,
   "id": "a97f2f57-a4e4-4958-b3f5-040a423ceaeb",
   "metadata": {},
   "outputs": [],
   "source": [
    "class MonteCarloOptionPricing:\n",
    "    ''' Monte Carlo Option Pricing Engine'''\n",
    "    \n",
    "    def __init__(self, S0:float, strike:float, rate:float, sigma:float, dte:int, nsim:int, timesteps:int=252) -> float:\n",
    "        self.S0 = S0        # Initial stock price\n",
    "        self.K = strike     # Strike price\n",
    "        self.r = rate       # Risk-free interest rate\n",
    "        self.sigma = sigma  # Volatility\n",
    "        self.T = dte        # Time to expiration\n",
    "        self.N = nsim       # Number of simulations\n",
    "        self.ts = timesteps # Time steps\n",
    "        \n",
    "    @property\n",
    "    def psuedorandomnumber(self):\n",
    "        ''' generate psuedo random numbers'''\n",
    "        return np.random.standard_normal(self.N)\n",
    "    \n",
    "    @property\n",
    "    def simulatepath(self):\n",
    "        ''' simulate price path'''\n",
    "        np.random.seed(2024)\n",
    "        \n",
    "        # define dt\n",
    "        dt = self.T/self.ts\n",
    "        \n",
    "        # simulate path\n",
    "        S = np.zeros((self.ts, self.N))\n",
    "        S[0] = self.S0\n",
    "        \n",
    "        for i in range(0, self.ts-1):\n",
    "            w = self.psuedorandomnumber\n",
    "            S[i+1] = S[i] * (1+ self.r*dt + self.sigma * np.sqrt(dt)*w)\n",
    "            \n",
    "        return S\n",
    "\n",
    "    @property\n",
    "    def vanillaoption(self):\n",
    "        ''' calculate vanilla option payoff'''\n",
    "        S = self.simulatepath\n",
    "        \n",
    "        # calculate the discounted value of the expeced payoff\n",
    "        vanilla_call = np.exp(-self.r*self.T) * np.mean(np.maximum(0, S[-1]-self.K))\n",
    "        vanilla_put = np.exp(-self.r*self.T) * np.mean(np.maximum(0, self.K-S[-1]))\n",
    "\n",
    "        return [vanilla_call, vanilla_put]\n",
    "\n",
    "    @property\n",
    "    def asianoption(self):\n",
    "        ''' calculate asian option payoff'''\n",
    "        S = self.simulatepath\n",
    "        \n",
    "        # average the price across days\n",
    "        A = S.mean(axis=0)\n",
    "        \n",
    "        # calculate the discounted value of the expeced payoff\n",
    "        asian_call = np.exp(-self.r*self.T) * np.mean(np.maximum(0, A-self.K))\n",
    "        asian_put = np.exp(-self.r*self.T) * np.mean(np.maximum(0, self.K-A))\n",
    "        \n",
    "        return [asian_call, asian_put]\n",
    "\n",
    "    def upandoutcall(self, barrier:int=150, rebate:int=0) -> float:\n",
    "        ''' calculate up-and-out barrier option payoff'''\n",
    "        S = self.simulatepath\n",
    "        \n",
    "        # Barrier shift - continuity correction for discrete monitoring\n",
    "        barriershift = barrier*np.exp(0.5826 * self.sigma * np.sqrt(self.T/self.ts))\n",
    "        value=0\n",
    "        \n",
    "        # Calculate the discounted value of the expeced payoff for i in range(self.N):\n",
    "        if S[:,i].max() < barriershift:\n",
    "            value += np.maximum(0, S[-1,i]-self.K)\n",
    "        else:\n",
    "            value += rebate\n",
    "        \n",
    "        return [np.exp(-self.r*self.T) * value/self.N, barriershift]"
   ]
  },
  {
   "cell_type": "code",
   "execution_count": null,
   "id": "1ca41a86-3a6c-4a37-afff-a708c3db064a",
   "metadata": {},
   "outputs": [],
   "source": [
    "# instantiate\n",
    "mc = MonteCarloOptionPricing(100,100,0.05,0.2,1,100000)\n",
    "\n",
    "# Verify the generated price paths\n",
    "pd.DataFrame(mc.simulatepath).head(2)"
   ]
  },
  {
   "cell_type": "code",
   "execution_count": null,
   "id": "58e0d778-b13a-43f9-8dac-269473ac1269",
   "metadata": {},
   "outputs": [],
   "source": [
    "# Plot the histogram\n",
    "plt.hist(mc.psuedorandomnumber, bins=100);"
   ]
  },
  {
   "cell_type": "code",
   "execution_count": null,
   "id": "5a515664-2b5c-4080-8d44-57a55b23c26c",
   "metadata": {},
   "outputs": [],
   "source": [
    "# Plot the histogram of the simulated price path at maturity\n",
    "plt.hist(mc.simulatepath[-1], bins=100);"
   ]
  },
  {
   "cell_type": "code",
   "execution_count": null,
   "id": "b2cf3f12-0cdf-4423-93eb-f408de7a67e4",
   "metadata": {},
   "outputs": [],
   "source": [
    "# Plot initial 100 simulated path using matplotlib\n",
    "plt.plot(mc.simulatepath[:,:100])\n",
    "plt.xlabel('time steps')\n",
    "plt.xlim(0,252)\n",
    "plt.ylabel('index levels')\n",
    "plt.title('Monte Carlo Simulated Asset Prices');"
   ]
  },
  {
   "cell_type": "code",
   "execution_count": null,
   "id": "46594af0-5e99-4787-89f8-992c1e0a829a",
   "metadata": {},
   "outputs": [],
   "source": [
    "# Get option vaues\n",
    "print(f\"European Call Option Value is {mc.vanillaoption[0]:0.4f}\")\n",
    "print(f\"European Put Option Value is {mc.vanillaoption[1]:0.4f}\")"
   ]
  },
  {
   "cell_type": "code",
   "execution_count": null,
   "id": "254f7677-7604-417f-92a6-bb3298c18396",
   "metadata": {},
   "outputs": [],
   "source": [
    "# range of spot prices\n",
    "sT= np.linspace(50,150,100)\n",
    "\n",
    "# visualize call and put price for range of spot prices\n",
    "figure, axes = plt.subplots(1,2, figsize=(20,6), sharey=True)\n",
    "title, payoff, color, label = ['Call Payoff', 'Put Payoff'], [np.maximum(sT-mc.K, 0), np.maximum(mc.K-sT, 0)], ['green', 'red'], ['Call', 'Put']\n",
    "\n",
    "# plot payoff\n",
    "for i in range(2):\n",
    "    axes[i].plot(sT, payoff[i], color=color[i], label=label[i])\n",
    "    axes[i].set_title(title[i])\n",
    "    axes[i].legend()\n",
    "\n",
    "figure.suptitle('Option Payoff at Maturity');"
   ]
  },
  {
   "cell_type": "code",
   "execution_count": null,
   "id": "d2cd092c-16c2-4243-87a3-a15c44b561c5",
   "metadata": {},
   "outputs": [],
   "source": [
    "# Get option values\n",
    "print(f\"Asian Call Option Value is {mc.asianoption[0]:0.4f}\")\n",
    "print(f\"Asian Put Option Value is {mc.asianoption[1]:0.4f}\")"
   ]
  },
  {
   "cell_type": "code",
   "execution_count": null,
   "id": "6074a654-5126-406e-b046-6fc112edfb5d",
   "metadata": {},
   "outputs": [],
   "source": [
    "# Get barrier option values for B=150 and rebate=0\n",
    "print(f\"Up-and-Out Barrier Call Option Value is {mc.upandoutcall()[0]:0.4f}\")"
   ]
  },
  {
   "cell_type": "code",
   "execution_count": null,
   "id": "cc897429-2299-4bfa-ac3f-602bc1d61883",
   "metadata": {},
   "outputs": [],
   "source": [
    "figure, axes = plt.subplots(1,3, figsize=(20,6), constrained_layout=True)\n",
    "title = ['Visualising the Barrier Condition', 'Spot Touched Barrier', 'Spot Below Barrier']\n",
    "\n",
    "# Get simulated path\n",
    "S = mc.simulatepath\n",
    "B_shift = mc.upandoutcall()[1]\n",
    "\n",
    "axes[0].plot(S[:,:200])\n",
    "for i in range(200):\n",
    "    axes[1].plot(S[:,i]) if S[:,i].max() > B_shift else axes[2].plot(S[:,i])\n",
    "\n",
    "for i in range(3):\n",
    "    axes[i].set_title(title[i])\n",
    "    axes[i].hlines(B_shift, 0, 252, colors='k', linestyles='dashed')\n",
    "\n",
    "figure.supxlabel('time steps')\n",
    "figure.supylabel('index levels')\n",
    "\n",
    "plt.show()"
   ]
  },
  {
   "cell_type": "code",
   "execution_count": null,
   "id": "83dd367a-fea1-401d-85f7-b31cac715321",
   "metadata": {},
   "outputs": [],
   "source": []
  },
  {
   "cell_type": "code",
   "execution_count": null,
   "id": "d9f43334-a8d7-4f1a-a03b-1b6b6a330600",
   "metadata": {},
   "outputs": [],
   "source": []
  }
 ],
 "metadata": {
  "kernelspec": {
   "display_name": "Python 3 (ipykernel)",
   "language": "python",
   "name": "python3"
  },
  "language_info": {
   "codemirror_mode": {
    "name": "ipython",
    "version": 3
   },
   "file_extension": ".py",
   "mimetype": "text/x-python",
   "name": "python",
   "nbconvert_exporter": "python",
   "pygments_lexer": "ipython3",
   "version": "3.11.3"
  }
 },
 "nbformat": 4,
 "nbformat_minor": 5
}
